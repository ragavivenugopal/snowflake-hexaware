{
 "cells": [
  {
   "cell_type": "code",
   "execution_count": 0,
   "metadata": {
    "application/vnd.databricks.v1+cell": {
     "cellMetadata": {
      "byteLimit": 2048000,
      "rowLimit": 10000
     },
     "inputWidgets": {},
     "nuid": "1e363e7d-09c5-4675-a5f1-9e76f6cbe63b",
     "showTitle": false,
     "tableResultSettingsMap": {},
     "title": ""
    }
   },
   "outputs": [
    {
     "output_type": "stream",
     "name": "stdout",
     "output_type": "stream",
     "text": [
      "Collecting snowflake-snowpark-python\n  Downloading snowflake_snowpark_python-1.41.0-py3-none-any.whl.metadata (176 kB)\nRequirement already satisfied: pandas in /databricks/python3/lib/python3.12/site-packages (2.2.3)\nRequirement already satisfied: setuptools>=40.6.0 in /usr/local/lib/python3.12/dist-packages (from snowflake-snowpark-python) (74.0.0)\nRequirement already satisfied: wheel in /usr/local/lib/python3.12/dist-packages (from snowflake-snowpark-python) (0.45.1)\nCollecting snowflake-connector-python<5.0.0,>=3.17.0 (from snowflake-snowpark-python)\n  Downloading snowflake_connector_python-4.0.0-cp312-cp312-manylinux_2_17_x86_64.manylinux2014_x86_64.whl.metadata (77 kB)\nRequirement already satisfied: typing-extensions<5.0.0,>=4.1.0 in /databricks/python3/lib/python3.12/site-packages (from snowflake-snowpark-python) (4.12.2)\nRequirement already satisfied: pyyaml in /databricks/python3/lib/python3.12/site-packages (from snowflake-snowpark-python) (6.0.2)\nRequirement already satisfied: cloudpickle!=2.1.0,!=2.2.0,<=3.1.1,>=1.6.0 in /databricks/python3/lib/python3.12/site-packages (from snowflake-snowpark-python) (3.0.0)\nRequirement already satisfied: protobuf<6.32,>=3.20 in /databricks/python3/lib/python3.12/site-packages (from snowflake-snowpark-python) (5.29.4)\nRequirement already satisfied: python-dateutil in /databricks/python3/lib/python3.12/site-packages (from snowflake-snowpark-python) (2.9.0.post0)\nCollecting tzlocal (from snowflake-snowpark-python)\n  Downloading tzlocal-5.3.1-py3-none-any.whl.metadata (7.6 kB)\nRequirement already satisfied: numpy>=1.26.0 in /databricks/python3/lib/python3.12/site-packages (from pandas) (2.1.3)\nRequirement already satisfied: pytz>=2020.1 in /databricks/python3/lib/python3.12/site-packages (from pandas) (2024.1)\nRequirement already satisfied: tzdata>=2022.7 in /databricks/python3/lib/python3.12/site-packages (from pandas) (2024.1)\nRequirement already satisfied: six>=1.5 in /usr/lib/python3/dist-packages (from python-dateutil->snowflake-snowpark-python) (1.16.0)\nCollecting asn1crypto<2.0.0,>0.24.0 (from snowflake-connector-python<5.0.0,>=3.17.0->snowflake-snowpark-python)\n  Downloading asn1crypto-1.5.1-py2.py3-none-any.whl.metadata (13 kB)\nRequirement already satisfied: cryptography>=3.1.0 in /databricks/python3/lib/python3.12/site-packages (from snowflake-connector-python<5.0.0,>=3.17.0->snowflake-snowpark-python) (43.0.3)\nCollecting pyOpenSSL<26.0.0,>=22.0.0 (from snowflake-connector-python<5.0.0,>=3.17.0->snowflake-snowpark-python)\n  Downloading pyopenssl-25.3.0-py3-none-any.whl.metadata (17 kB)\nRequirement already satisfied: pyjwt<3.0.0 in /databricks/python3/lib/python3.12/site-packages (from snowflake-connector-python<5.0.0,>=3.17.0->snowflake-snowpark-python) (2.10.1)\nRequirement already satisfied: requests<3.0.0 in /databricks/python3/lib/python3.12/site-packages (from snowflake-connector-python<5.0.0,>=3.17.0->snowflake-snowpark-python) (2.32.3)\nRequirement already satisfied: packaging in /databricks/python3/lib/python3.12/site-packages (from snowflake-connector-python<5.0.0,>=3.17.0->snowflake-snowpark-python) (24.1)\nRequirement already satisfied: charset_normalizer<4,>=2 in /databricks/python3/lib/python3.12/site-packages (from snowflake-connector-python<5.0.0,>=3.17.0->snowflake-snowpark-python) (3.3.2)\nRequirement already satisfied: idna<4,>=2.5 in /databricks/python3/lib/python3.12/site-packages (from snowflake-connector-python<5.0.0,>=3.17.0->snowflake-snowpark-python) (3.7)\nRequirement already satisfied: certifi>=2017.4.17 in /databricks/python3/lib/python3.12/site-packages (from snowflake-connector-python<5.0.0,>=3.17.0->snowflake-snowpark-python) (2025.1.31)\nRequirement already satisfied: filelock<4,>=3.5 in /usr/local/lib/python3.12/dist-packages (from snowflake-connector-python<5.0.0,>=3.17.0->snowflake-snowpark-python) (3.18.0)\nRequirement already satisfied: sortedcontainers>=2.4.0 in /databricks/python3/lib/python3.12/site-packages (from snowflake-connector-python<5.0.0,>=3.17.0->snowflake-snowpark-python) (2.4.0)\nRequirement already satisfied: platformdirs<5.0.0,>=2.6.0 in /databricks/python3/lib/python3.12/site-packages (from snowflake-connector-python<5.0.0,>=3.17.0->snowflake-snowpark-python) (3.10.0)\nCollecting tomlkit (from snowflake-connector-python<5.0.0,>=3.17.0->snowflake-snowpark-python)\n  Downloading tomlkit-0.13.3-py3-none-any.whl.metadata (2.8 kB)\nRequirement already satisfied: boto3>=1.24 in /databricks/python3/lib/python3.12/site-packages (from snowflake-connector-python<5.0.0,>=3.17.0->snowflake-snowpark-python) (1.36.2)\nRequirement already satisfied: botocore>=1.24 in /databricks/python3/lib/python3.12/site-packages (from snowflake-connector-python<5.0.0,>=3.17.0->snowflake-snowpark-python) (1.36.3)\nRequirement already satisfied: jmespath<2.0.0,>=0.7.1 in /databricks/python3/lib/python3.12/site-packages (from boto3>=1.24->snowflake-connector-python<5.0.0,>=3.17.0->snowflake-snowpark-python) (1.0.1)\nRequirement already satisfied: s3transfer<0.12.0,>=0.11.0 in /databricks/python3/lib/python3.12/site-packages (from boto3>=1.24->snowflake-connector-python<5.0.0,>=3.17.0->snowflake-snowpark-python) (0.11.3)\nRequirement already satisfied: urllib3!=2.2.0,<3,>=1.25.4 in /databricks/python3/lib/python3.12/site-packages (from botocore>=1.24->snowflake-connector-python<5.0.0,>=3.17.0->snowflake-snowpark-python) (2.3.0)\nRequirement already satisfied: cffi>=1.12 in /databricks/python3/lib/python3.12/site-packages (from cryptography>=3.1.0->snowflake-connector-python<5.0.0,>=3.17.0->snowflake-snowpark-python) (1.17.1)\nCollecting cryptography>=3.1.0 (from snowflake-connector-python<5.0.0,>=3.17.0->snowflake-snowpark-python)\n  Downloading cryptography-46.0.3-cp311-abi3-manylinux_2_34_x86_64.whl.metadata (5.7 kB)\nCollecting cffi>=2.0.0 (from cryptography>=3.1.0->snowflake-connector-python<5.0.0,>=3.17.0->snowflake-snowpark-python)\n  Downloading cffi-2.0.0-cp312-cp312-manylinux2014_x86_64.manylinux_2_17_x86_64.whl.metadata (2.6 kB)\nRequirement already satisfied: pycparser in /databricks/python3/lib/python3.12/site-packages (from cffi>=2.0.0->cryptography>=3.1.0->snowflake-connector-python<5.0.0,>=3.17.0->snowflake-snowpark-python) (2.21)\nDownloading snowflake_snowpark_python-1.41.0-py3-none-any.whl (1.8 MB)\n\u001B[?25l   \u001B[90m━━━━━━━━━━━━━━━━━━━━━━━━━━━━━━━━━━━━━━━━\u001B[0m \u001B[32m0.0/1.8 MB\u001B[0m \u001B[31m?\u001B[0m eta \u001B[36m-:--:--\u001B[0m\r\u001B[2K   \u001B[90m━━━━━━━━━━━━━━━━━━━━━━━━━━━━━━━━━━━━━━━━\u001B[0m \u001B[32m1.8/1.8 MB\u001B[0m \u001B[31m12.8 MB/s\u001B[0m eta \u001B[36m0:00:00\u001B[0m\n\u001B[?25hDownloading snowflake_connector_python-4.0.0-cp312-cp312-manylinux_2_17_x86_64.manylinux2014_x86_64.whl (2.7 MB)\n\u001B[?25l   \u001B[90m━━━━━━━━━━━━━━━━━━━━━━━━━━━━━━━━━━━━━━━━\u001B[0m \u001B[32m0.0/2.7 MB\u001B[0m \u001B[31m?\u001B[0m eta \u001B[36m-:--:--\u001B[0m\r\u001B[2K   \u001B[90m━━━━━━━━━━━━━━━━━━━━━━━━━━━━━━━━━━━━━━━━\u001B[0m \u001B[32m2.7/2.7 MB\u001B[0m \u001B[31m36.7 MB/s\u001B[0m eta \u001B[36m0:00:00\u001B[0m\n\u001B[?25hDownloading tzlocal-5.3.1-py3-none-any.whl (18 kB)\nDownloading asn1crypto-1.5.1-py2.py3-none-any.whl (105 kB)\nDownloading pyopenssl-25.3.0-py3-none-any.whl (57 kB)\nDownloading cryptography-46.0.3-cp311-abi3-manylinux_2_34_x86_64.whl (4.5 MB)\n\u001B[?25l   \u001B[90m━━━━━━━━━━━━━━━━━━━━━━━━━━━━━━━━━━━━━━━━\u001B[0m \u001B[32m0.0/4.5 MB\u001B[0m \u001B[31m?\u001B[0m eta \u001B[36m-:--:--\u001B[0m\r\u001B[2K   \u001B[90m━━━━━━━━━━━━━━━━━━━━━━━━━━━━━━━━━━━━━━━━\u001B[0m \u001B[32m4.5/4.5 MB\u001B[0m \u001B[31m61.0 MB/s\u001B[0m eta \u001B[36m0:00:00\u001B[0m\n\u001B[?25hDownloading tomlkit-0.13.3-py3-none-any.whl (38 kB)\nDownloading cffi-2.0.0-cp312-cp312-manylinux2014_x86_64.manylinux_2_17_x86_64.whl (219 kB)\nInstalling collected packages: asn1crypto, tzlocal, tomlkit, cffi, cryptography, pyOpenSSL, snowflake-connector-python, snowflake-snowpark-python\n  Attempting uninstall: cffi\n    Found existing installation: cffi 1.17.1\n    Not uninstalling cffi at /databricks/python3/lib/python3.12/site-packages, outside environment /local_disk0/.ephemeral_nfs/envs/pythonEnv-41ef3f11-dd68-4869-82ff-1b2541c8dbbd\n    Can't uninstall 'cffi'. No files were found to uninstall.\n  Attempting uninstall: cryptography\n    Found existing installation: cryptography 43.0.3\n    Not uninstalling cryptography at /databricks/python3/lib/python3.12/site-packages, outside environment /local_disk0/.ephemeral_nfs/envs/pythonEnv-41ef3f11-dd68-4869-82ff-1b2541c8dbbd\n    Can't uninstall 'cryptography'. No files were found to uninstall.\nSuccessfully installed asn1crypto-1.5.1 cffi-2.0.0 cryptography-46.0.3 pyOpenSSL-25.3.0 snowflake-connector-python-4.0.0 snowflake-snowpark-python-1.41.0 tomlkit-0.13.3 tzlocal-5.3.1\n\u001B[43mNote: you may need to restart the kernel using %restart_python or dbutils.library.restartPython() to use updated packages.\u001B[0m\n"
     ]
    }
   ],
   "source": [
    "%pip install snowflake-snowpark-python pandas\n",
    "dbutils.library.restartPython()"
   ]
  },
  {
   "cell_type": "code",
   "execution_count": 0,
   "metadata": {
    "application/vnd.databricks.v1+cell": {
     "cellMetadata": {
      "byteLimit": 2048000,
      "rowLimit": 10000
     },
     "inputWidgets": {},
     "nuid": "37f2e4e3-a5e9-4740-9948-a6f32a10774a",
     "showTitle": false,
     "tableResultSettingsMap": {},
     "title": ""
    }
   },
   "outputs": [
    {
     "output_type": "stream",
     "name": "stdout",
     "output_type": "stream",
     "text": [
      "Collecting snowflake-snowpark-python\n  Downloading snowflake_snowpark_python-1.41.0-py3-none-any.whl.metadata (176 kB)\n\u001B[?25l     \u001B[90m━━━━━━━━━━━━━━━━━━━━━━━━━━━━━━━━━━━━━━━━\u001B[0m \u001B[32m0.0/176.1 kB\u001B[0m \u001B[31m?\u001B[0m eta \u001B[36m-:--:--\u001B[0m\n\u001B[2K     \u001B[91m━━━━━━\u001B[0m\u001B[91m╸\u001B[0m\u001B[90m━━━━━━━━━━━━━━━━━━━━━━━━━━━━━━━━━\u001B[0m \u001B[32m30.7/176.1 kB\u001B[0m \u001B[31m1.3 MB/s\u001B[0m eta \u001B[36m0:00:01\u001B[0m\n\u001B[2K     \u001B[91m━━━━━━━━━━━━━━━\u001B[0m\u001B[90m╺\u001B[0m\u001B[90m━━━━━━━━━━━━━━━━━━━━━━\u001B[0m \u001B[32m71.7/176.1 kB\u001B[0m \u001B[31m916.2 kB/s\u001B[0m eta \u001B[36m0:00:01\u001B[0m\n\u001B[2K     \u001B[91m━━━━━━━━━━━━━━━━━━━━━\u001B[0m\u001B[91m╸\u001B[0m\u001B[90m━━━━━━━━━━━━━━━\u001B[0m \u001B[32m102.4/176.1 kB\u001B[0m \u001B[31m935.4 kB/s\u001B[0m eta \u001B[36m0:00:01\u001B[0m\n\u001B[2K     \u001B[90m━━━━━━━━━━━━━━━━━━━━━━━━━━━━━━━━━━━━━━━\u001B[0m \u001B[32m176.1/176.1 kB\u001B[0m \u001B[31m1.3 MB/s\u001B[0m eta \u001B[36m0:00:00\u001B[0m\n\u001B[?25hRequirement already satisfied: setuptools>=40.6.0 in /usr/local/lib/python3.12/dist-packages (from snowflake-snowpark-python) (74.0.0)\nRequirement already satisfied: wheel in /databricks/python3/lib/python3.12/site-packages (from snowflake-snowpark-python) (0.43.0)\nCollecting snowflake-connector-python<5.0.0,>=3.17.0 (from snowflake-snowpark-python)\n  Downloading snowflake_connector_python-4.0.0-cp312-cp312-manylinux_2_17_x86_64.manylinux2014_x86_64.whl.metadata (77 kB)\n\u001B[?25l     \u001B[90m━━━━━━━━━━━━━━━━━━━━━━━━━━━━━━━━━━━━━━━━\u001B[0m \u001B[32m0.0/77.0 kB\u001B[0m \u001B[31m?\u001B[0m eta \u001B[36m-:--:--\u001B[0m\n\u001B[2K     \u001B[90m━━━━━━━━━━━━━━━━━━━━━━━━━━━━━━━━━━━━━━━━\u001B[0m \u001B[32m77.0/77.0 kB\u001B[0m \u001B[31m3.7 MB/s\u001B[0m eta \u001B[36m0:00:00\u001B[0m\n\u001B[?25hRequirement already satisfied: typing-extensions<5.0.0,>=4.1.0 in /databricks/python3/lib/python3.12/site-packages (from snowflake-snowpark-python) (4.11.0)\nRequirement already satisfied: pyyaml in /databricks/python3/lib/python3.12/site-packages (from snowflake-snowpark-python) (6.0.1)\nRequirement already satisfied: cloudpickle!=2.1.0,!=2.2.0,<=3.1.1,>=1.6.0 in /databricks/python3/lib/python3.12/site-packages (from snowflake-snowpark-python) (2.2.1)\nRequirement already satisfied: protobuf<6.32,>=3.20 in /databricks/python3/lib/python3.12/site-packages (from snowflake-snowpark-python) (4.24.1)\nRequirement already satisfied: python-dateutil in /databricks/python3/lib/python3.12/site-packages (from snowflake-snowpark-python) (2.9.0.post0)\nCollecting tzlocal (from snowflake-snowpark-python)\n  Downloading tzlocal-5.3.1-py3-none-any.whl.metadata (7.6 kB)\nCollecting asn1crypto<2.0.0,>0.24.0 (from snowflake-connector-python<5.0.0,>=3.17.0->snowflake-snowpark-python)\n  Downloading asn1crypto-1.5.1-py2.py3-none-any.whl.metadata (13 kB)\nRequirement already satisfied: cryptography>=3.1.0 in /databricks/python3/lib/python3.12/site-packages (from snowflake-connector-python<5.0.0,>=3.17.0->snowflake-snowpark-python) (42.0.5)\nCollecting pyOpenSSL<26.0.0,>=22.0.0 (from snowflake-connector-python<5.0.0,>=3.17.0->snowflake-snowpark-python)\n  Downloading pyopenssl-25.3.0-py3-none-any.whl.metadata (17 kB)\nRequirement already satisfied: pyjwt<3.0.0 in /usr/lib/python3/dist-packages (from snowflake-connector-python<5.0.0,>=3.17.0->snowflake-snowpark-python) (2.7.0)\nRequirement already satisfied: pytz in /databricks/python3/lib/python3.12/site-packages (from snowflake-connector-python<5.0.0,>=3.17.0->snowflake-snowpark-python) (2024.1)\nRequirement already satisfied: requests<3.0.0 in /databricks/python3/lib/python3.12/site-packages (from snowflake-connector-python<5.0.0,>=3.17.0->snowflake-snowpark-python) (2.32.2)\nRequirement already satisfied: packaging in /databricks/python3/lib/python3.12/site-packages (from snowflake-connector-python<5.0.0,>=3.17.0->snowflake-snowpark-python) (24.1)\nRequirement already satisfied: charset_normalizer<4,>=2 in /databricks/python3/lib/python3.12/site-packages (from snowflake-connector-python<5.0.0,>=3.17.0->snowflake-snowpark-python) (2.0.4)\nRequirement already satisfied: idna<4,>=2.5 in /databricks/python3/lib/python3.12/site-packages (from snowflake-connector-python<5.0.0,>=3.17.0->snowflake-snowpark-python) (3.7)\nRequirement already satisfied: certifi>=2017.4.17 in /databricks/python3/lib/python3.12/site-packages (from snowflake-connector-python<5.0.0,>=3.17.0->snowflake-snowpark-python) (2024.6.2)\nRequirement already satisfied: filelock<4,>=3.5 in /usr/local/lib/python3.12/dist-packages (from snowflake-connector-python<5.0.0,>=3.17.0->snowflake-snowpark-python) (3.15.4)\nCollecting sortedcontainers>=2.4.0 (from snowflake-connector-python<5.0.0,>=3.17.0->snowflake-snowpark-python)\n  Downloading sortedcontainers-2.4.0-py2.py3-none-any.whl.metadata (10 kB)\nRequirement already satisfied: platformdirs<5.0.0,>=2.6.0 in /databricks/python3/lib/python3.12/site-packages (from snowflake-connector-python<5.0.0,>=3.17.0->snowflake-snowpark-python) (3.10.0)\nCollecting tomlkit (from snowflake-connector-python<5.0.0,>=3.17.0->snowflake-snowpark-python)\n  Downloading tomlkit-0.13.3-py3-none-any.whl.metadata (2.8 kB)\nRequirement already satisfied: boto3>=1.24 in /databricks/python3/lib/python3.12/site-packages (from snowflake-connector-python<5.0.0,>=3.17.0->snowflake-snowpark-python) (1.34.69)\nRequirement already satisfied: botocore>=1.24 in /databricks/python3/lib/python3.12/site-packages (from snowflake-connector-python<5.0.0,>=3.17.0->snowflake-snowpark-python) (1.34.69)\nRequirement already satisfied: six>=1.5 in /usr/lib/python3/dist-packages (from python-dateutil->snowflake-snowpark-python) (1.16.0)\nRequirement already satisfied: jmespath<2.0.0,>=0.7.1 in /databricks/python3/lib/python3.12/site-packages (from boto3>=1.24->snowflake-connector-python<5.0.0,>=3.17.0->snowflake-snowpark-python) (1.0.1)\nRequirement already satisfied: s3transfer<0.11.0,>=0.10.0 in /databricks/python3/lib/python3.12/site-packages (from boto3>=1.24->snowflake-connector-python<5.0.0,>=3.17.0->snowflake-snowpark-python) (0.10.2)\nRequirement already satisfied: urllib3!=2.2.0,<3,>=1.25.4 in /databricks/python3/lib/python3.12/site-packages (from botocore>=1.24->snowflake-connector-python<5.0.0,>=3.17.0->snowflake-snowpark-python) (1.26.16)\nRequirement already satisfied: cffi>=1.12 in /databricks/python3/lib/python3.12/site-packages (from cryptography>=3.1.0->snowflake-connector-python<5.0.0,>=3.17.0->snowflake-snowpark-python) (1.16.0)\nCollecting cryptography>=3.1.0 (from snowflake-connector-python<5.0.0,>=3.17.0->snowflake-snowpark-python)\n  Downloading cryptography-46.0.3-cp311-abi3-manylinux_2_34_x86_64.whl.metadata (5.7 kB)\nCollecting cffi>=2.0.0 (from cryptography>=3.1.0->snowflake-connector-python<5.0.0,>=3.17.0->snowflake-snowpark-python)\n  Downloading cffi-2.0.0-cp312-cp312-manylinux2014_x86_64.manylinux_2_17_x86_64.whl.metadata (2.6 kB)\nRequirement already satisfied: pycparser in /databricks/python3/lib/python3.12/site-packages (from cffi>=2.0.0->cryptography>=3.1.0->snowflake-connector-python<5.0.0,>=3.17.0->snowflake-snowpark-python) (2.21)\nDownloading snowflake_snowpark_python-1.41.0-py3-none-any.whl (1.8 MB)\n\u001B[?25l   \u001B[90m━━━━━━━━━━━━━━━━━━━━━━━━━━━━━━━━━━━━━━━━\u001B[0m \u001B[32m0.0/1.8 MB\u001B[0m \u001B[31m?\u001B[0m eta \u001B[36m-:--:--\u001B[0m\n\u001B[2K   \u001B[91m━━━━\u001B[0m\u001B[90m╺\u001B[0m\u001B[90m━━━━━━━━━━━━━━━━━━━━━━━━━━━━━━━━━━━\u001B[0m \u001B[32m0.2/1.8 MB\u001B[0m \u001B[31m8.9 MB/s\u001B[0m eta \u001B[36m0:00:01\u001B[0m\n\u001B[2K   \u001B[91m━━━━━━━━━\u001B[0m\u001B[90m╺\u001B[0m\u001B[90m━━━━━━━━━━━━━━━━━━━━━━━━━━━━━━\u001B[0m \u001B[32m0.4/1.8 MB\u001B[0m \u001B[31m6.0 MB/s\u001B[0m eta \u001B[36m0:00:01\u001B[0m\n\u001B[2K   \u001B[91m━━━━━━━━━━━━━━\u001B[0m\u001B[91m╸\u001B[0m\u001B[90m━━━━━━━━━━━━━━━━━━━━━━━━━\u001B[0m \u001B[32m0.7/1.8 MB\u001B[0m \u001B[31m6.4 MB/s\u001B[0m eta \u001B[36m0:00:01\u001B[0m\n\u001B[2K   \u001B[91m━━━━━━━━━━━━━━━━━━━━━━━━━━━━━━━\u001B[0m\u001B[90m╺\u001B[0m\u001B[90m━━━━━━━━\u001B[0m \u001B[32m1.4/1.8 MB\u001B[0m \u001B[31m10.6 MB/s\u001B[0m eta \u001B[36m0:00:01\u001B[0m\n\u001B[2K   \u001B[91m━━━━━━━━━━━━━━━━━━━━━━━━━━━━━━━━━━━━━━━\u001B[0m\u001B[91m╸\u001B[0m \u001B[32m1.8/1.8 MB\u001B[0m \u001B[31m11.3 MB/s\u001B[0m eta \u001B[36m0:00:01\u001B[0m\n\u001B[2K   \u001B[90m━━━━━━━━━━━━━━━━━━━━━━━━━━━━━━━━━━━━━━━━\u001B[0m \u001B[32m1.8/1.8 MB\u001B[0m \u001B[31m10.4 MB/s\u001B[0m eta \u001B[36m0:00:00\u001B[0m\n\u001B[?25hDownloading snowflake_connector_python-4.0.0-cp312-cp312-manylinux_2_17_x86_64.manylinux2014_x86_64.whl (2.7 MB)\n\u001B[?25l   \u001B[90m━━━━━━━━━━━━━━━━━━━━━━━━━━━━━━━━━━━━━━━━\u001B[0m \u001B[32m0.0/2.7 MB\u001B[0m \u001B[31m?\u001B[0m eta \u001B[36m-:--:--\u001B[0m\n\u001B[2K   \u001B[91m━━━━━━━━━━━━━━━━━━━━━━━━━━━━━\u001B[0m\u001B[91m╸\u001B[0m\u001B[90m━━━━━━━━━━\u001B[0m \u001B[32m2.0/2.7 MB\u001B[0m \u001B[31m94.2 MB/s\u001B[0m eta \u001B[36m0:00:01\u001B[0m\n\u001B[2K   \u001B[91m━━━━━━━━━━━━━━━━━━━━━━━━━━━━━━━━━━━━━━━\u001B[0m\u001B[91m╸\u001B[0m \u001B[32m2.7/2.7 MB\u001B[0m \u001B[31m46.8 MB/s\u001B[0m eta \u001B[36m0:00:01\u001B[0m\n\u001B[2K   \u001B[90m━━━━━━━━━━━━━━━━━━━━━━━━━━━━━━━━━━━━━━━━\u001B[0m \u001B[32m2.7/2.7 MB\u001B[0m \u001B[31m36.9 MB/s\u001B[0m eta \u001B[36m0:00:00\u001B[0m\n\u001B[?25hDownloading tzlocal-5.3.1-py3-none-any.whl (18 kB)\nDownloading asn1crypto-1.5.1-py2.py3-none-any.whl (105 kB)\n\u001B[?25l   \u001B[90m━━━━━━━━━━━━━━━━━━━━━━━━━━━━━━━━━━━━━━━━\u001B[0m \u001B[32m0.0/105.0 kB\u001B[0m \u001B[31m?\u001B[0m eta \u001B[36m-:--:--\u001B[0m\n\u001B[2K   \u001B[90m━━━━━━━━━━━━━━━━━━━━━━━━━━━━━━━━━━━━━━━━\u001B[0m \u001B[32m105.0/105.0 kB\u001B[0m \u001B[31m10.6 MB/s\u001B[0m eta \u001B[36m0:00:00\u001B[0m\n\u001B[?25hDownloading pyopenssl-25.3.0-py3-none-any.whl (57 kB)\n\u001B[?25l   \u001B[90m━━━━━━━━━━━━━━━━━━━━━━━━━━━━━━━━━━━━━━━━\u001B[0m \u001B[32m0.0/57.3 kB\u001B[0m \u001B[31m?\u001B[0m eta \u001B[36m-:--:--\u001B[0m\n\u001B[2K   \u001B[90m━━━━━━━━━━━━━━━━━━━━━━━━━━━━━━━━━━━━━━━━\u001B[0m \u001B[32m57.3/57.3 kB\u001B[0m \u001B[31m5.7 MB/s\u001B[0m eta \u001B[36m0:00:00\u001B[0m\n\u001B[?25hDownloading cryptography-46.0.3-cp311-abi3-manylinux_2_34_x86_64.whl (4.5 MB)\n\u001B[?25l   \u001B[90m━━━━━━━━━━━━━━━━━━━━━━━━━━━━━━━━━━━━━━━━\u001B[0m \u001B[32m0.0/4.5 MB\u001B[0m \u001B[31m?\u001B[0m eta \u001B[36m-:--:--\u001B[0m\n\u001B[2K   \u001B[91m━━━━━━━━━━━━━━━━━━━━━━━━━━━\u001B[0m\u001B[91m╸\u001B[0m\u001B[90m━━━━━━━━━━━━\u001B[0m \u001B[32m3.1/4.5 MB\u001B[0m \u001B[31m172.9 MB/s\u001B[0m eta \u001B[36m0:00:01\u001B[0m\n\u001B[2K   \u001B[91m━━━━━━━━━━━━━━━━━━━━━━━━━━━━━━━━━━━━━━━\u001B[0m\u001B[91m╸\u001B[0m \u001B[32m4.5/4.5 MB\u001B[0m \u001B[31m76.2 MB/s\u001B[0m eta \u001B[36m0:00:01\u001B[0m\n\u001B[2K   \u001B[90m━━━━━━━━━━━━━━━━━━━━━━━━━━━━━━━━━━━━━━━━\u001B[0m \u001B[32m4.5/4.5 MB\u001B[0m \u001B[31m53.6 MB/s\u001B[0m eta \u001B[36m0:00:00\u001B[0m\n\u001B[?25hDownloading sortedcontainers-2.4.0-py2.py3-none-any.whl (29 kB)\nDownloading tomlkit-0.13.3-py3-none-any.whl (38 kB)\nDownloading cffi-2.0.0-cp312-cp312-manylinux2014_x86_64.manylinux_2_17_x86_64.whl (219 kB)\n\u001B[?25l   \u001B[90m━━━━━━━━━━━━━━━━━━━━━━━━━━━━━━━━━━━━━━━━\u001B[0m \u001B[32m0.0/219.6 kB\u001B[0m \u001B[31m?\u001B[0m eta \u001B[36m-:--:--\u001B[0m\n\u001B[2K   \u001B[90m━━━━━━━━━━━━━━━━━━━━━━━━━━━━━━━━━━━━━━━━\u001B[0m \u001B[32m219.6/219.6 kB\u001B[0m \u001B[31m19.2 MB/s\u001B[0m eta \u001B[36m0:00:00\u001B[0m\n\u001B[?25hInstalling collected packages: sortedcontainers, asn1crypto, tzlocal, tomlkit, cffi, cryptography, pyOpenSSL, snowflake-connector-python, snowflake-snowpark-python\n  Attempting uninstall: cffi\n    Found existing installation: cffi 1.16.0\n    Not uninstalling cffi at /databricks/python3/lib/python3.12/site-packages, outside environment /local_disk0/.ephemeral_nfs/envs/pythonEnv-5e42ee6c-518e-4495-87d8-5d219856c69b\n    Can't uninstall 'cffi'. No files were found to uninstall.\n  Attempting uninstall: cryptography\n    Found existing installation: cryptography 42.0.5\n    Not uninstalling cryptography at /databricks/python3/lib/python3.12/site-packages, outside environment /local_disk0/.ephemeral_nfs/envs/pythonEnv-5e42ee6c-518e-4495-87d8-5d219856c69b\n    Can't uninstall 'cryptography'. No files were found to uninstall.\nSuccessfully installed asn1crypto-1.5.1 cffi-2.0.0 cryptography-46.0.3 pyOpenSSL-25.3.0 snowflake-connector-python-4.0.0 snowflake-snowpark-python-1.41.0 sortedcontainers-2.4.0 tomlkit-0.13.3 tzlocal-5.3.1\n\u001B[43mNote: you may need to restart the kernel using %restart_python or dbutils.library.restartPython() to use updated packages.\u001B[0m\n"
     ]
    }
   ],
   "source": [
    "%pip install snowflake-snowpark-python"
   ]
  },
  {
   "cell_type": "code",
   "execution_count": 0,
   "metadata": {
    "application/vnd.databricks.v1+cell": {
     "cellMetadata": {
      "byteLimit": 2048000,
      "rowLimit": 10000
     },
     "inputWidgets": {},
     "nuid": "2c05788a-8882-4eaa-9a69-437e927789e9",
     "showTitle": false,
     "tableResultSettingsMap": {},
     "title": ""
    }
   },
   "outputs": [],
   "source": [
    "%restart_python"
   ]
  },
  {
   "cell_type": "markdown",
   "metadata": {
    "application/vnd.databricks.v1+cell": {
     "cellMetadata": {},
     "inputWidgets": {},
     "nuid": "16c32cb3-8e3d-43ce-a489-eb378e2d5287",
     "showTitle": false,
     "tableResultSettingsMap": {},
     "title": ""
    }
   },
   "source": [
    "Connect Snowflake Session"
   ]
  },
  {
   "cell_type": "code",
   "execution_count": 0,
   "metadata": {
    "application/vnd.databricks.v1+cell": {
     "cellMetadata": {
      "byteLimit": 2048000,
      "rowLimit": 10000
     },
     "inputWidgets": {},
     "nuid": "19767ea0-3be9-41d4-b46a-a81d916c048f",
     "showTitle": false,
     "tableResultSettingsMap": {},
     "title": ""
    }
   },
   "outputs": [],
   "source": [
    "from snowflake.snowpark import Session\n",
    "\n",
    "connection_parameters = {\n",
    "    \"account\": \"DWGAELR-KQ25919\",\n",
    "    \"user\": \"RAGAVIVENUGOPAL\",\n",
    "    \"password\": \"Ragavi@123456789\",\n",
    "    \"role\": \"ACCOUNTADMIN\",\n",
    "    \"warehouse\": \"ITG_WAREHOUSE\",\n",
    "    \"database\": \"ITG_SALES_DB\",\n",
    "    \"schema\": \"RAW\"\n",
    "}\n",
    "session = Session.builder.configs(connection_parameters).create()\n"
   ]
  },
  {
   "cell_type": "markdown",
   "metadata": {
    "application/vnd.databricks.v1+cell": {
     "cellMetadata": {},
     "inputWidgets": {},
     "nuid": "d54d0b7d-5eaa-4afc-87e9-509442b7fe9f",
     "showTitle": false,
     "tableResultSettingsMap": {},
     "title": ""
    }
   },
   "source": [
    "Create File Format & Stage"
   ]
  },
  {
   "cell_type": "code",
   "execution_count": 0,
   "metadata": {
    "application/vnd.databricks.v1+cell": {
     "cellMetadata": {
      "byteLimit": 2048000,
      "rowLimit": 10000
     },
     "inputWidgets": {},
     "nuid": "5d477343-9d87-439b-bc7e-bc16037b5648",
     "showTitle": false,
     "tableResultSettingsMap": {},
     "title": ""
    }
   },
   "outputs": [
    {
     "output_type": "stream",
     "name": "stdout",
     "output_type": "stream",
     "text": [
      "File format and stage created successfully\n"
     ]
    }
   ],
   "source": [
    "\n",
    "session.sql(\"\"\"\n",
    "CREATE OR REPLACE FILE FORMAT csv_format\n",
    "  TYPE = 'CSV'\n",
    "  FIELD_DELIMITER = ','\n",
    "  SKIP_HEADER = 1\n",
    "  NULL_IF = ('NULL', 'null')\n",
    "  EMPTY_FIELD_AS_NULL = TRUE;\n",
    "\"\"\").collect()\n",
    "\n",
    "session.sql(\"\"\"\n",
    "CREATE OR REPLACE STAGE azure_stage\n",
    "  URL = 'azure://itgretailstorage.blob.core.windows.net/monthly-sales/'\n",
    "  CREDENTIALS = (AZURE_SAS_TOKEN = '?sv=2024-11-04&ss=bfqt&srt=sco&sp=rwdlacupiytfx&se=2025-10-24T13:14:20Z&st=2025-10-24T04:59:20Z&spr=https&sig=9R6uMAylOZ5POtq6QdwkrYBx6y4Mmr9c36OQUs9A3xU%3D')\n",
    "  FILE_FORMAT = csv_format;\n",
    "\"\"\").collect()\n",
    "\n",
    "print(\"File format and stage created successfully\")"
   ]
  },
  {
   "cell_type": "code",
   "execution_count": 0,
   "metadata": {
    "application/vnd.databricks.v1+cell": {
     "cellMetadata": {
      "byteLimit": 2048000,
      "rowLimit": 10000
     },
     "inputWidgets": {},
     "nuid": "e7d87f72-f15f-4fe2-afcc-a5fa4aee8d8a",
     "showTitle": false,
     "tableResultSettingsMap": {},
     "title": ""
    }
   },
   "outputs": [
    {
     "output_type": "stream",
     "name": "stdout",
     "output_type": "stream",
     "text": [
      "Stage connection successful! Files found:\n - azure://itgretailstorage.blob.core.windows.net/monthly-sales/Retail_Sales__500_rows__Preview.csv\n"
     ]
    }
   ],
   "source": [
    "# Test stage connection\n",
    "try:\n",
    "    result = session.sql(\"LIST @azure_stage\").collect()\n",
    "    print(\"Stage connection successful! Files found:\")\n",
    "    for row in result:\n",
    "        print(f\" - {row['name']}\")\n",
    "except Exception as e:\n",
    "    print(f\"Error listing files: {str(e)}\")"
   ]
  },
  {
   "cell_type": "code",
   "execution_count": 0,
   "metadata": {
    "application/vnd.databricks.v1+cell": {
     "cellMetadata": {
      "byteLimit": 2048000,
      "rowLimit": 10000
     },
     "inputWidgets": {},
     "nuid": "4fe5c001-3402-4dff-a890-e84fa8739680",
     "showTitle": false,
     "tableResultSettingsMap": {},
     "title": ""
    }
   },
   "outputs": [
    {
     "output_type": "stream",
     "name": "stdout",
     "output_type": "stream",
     "text": [
      "Raw sales table created successfully\n"
     ]
    }
   ],
   "source": [
    "# Create raw table schema matching your CSV\n",
    "session.sql(\"\"\"\n",
    "CREATE OR REPLACE TABLE raw_sales_data (\n",
    "    OrderID STRING,\n",
    "    OrderDate DATE,\n",
    "    MonthOfSale STRING,\n",
    "    CustomerID STRING,\n",
    "    CustomerName STRING,\n",
    "    Country STRING,\n",
    "    Region STRING,\n",
    "    City STRING,\n",
    "    Category STRING,\n",
    "    Subcategory STRING,\n",
    "    Quantity INTEGER,\n",
    "    Discount NUMBER(10,2),\n",
    "    Sales NUMBER(10,2),\n",
    "    Profit NUMBER(10,2),\n",
    "    FileName STRING,\n",
    "    LoadTimestamp TIMESTAMP_NTZ DEFAULT CURRENT_TIMESTAMP()\n",
    ");\n",
    "\"\"\").collect()\n",
    "\n",
    "print(\"Raw sales table created successfully\")"
   ]
  },
  {
   "cell_type": "code",
   "execution_count": 0,
   "metadata": {
    "application/vnd.databricks.v1+cell": {
     "cellMetadata": {
      "byteLimit": 2048000,
      "rowLimit": 10000
     },
     "inputWidgets": {},
     "nuid": "d5d85bc9-66b6-4566-99e3-614461dabe38",
     "showTitle": false,
     "tableResultSettingsMap": {},
     "title": ""
    }
   },
   "outputs": [
    {
     "output_type": "execute_result",
     "data": {
      "text/plain": [
       "[Row(file='azure://itgretailstorage.blob.core.windows.net/monthly-sales/Retail_Sales__500_rows__Preview.csv', status='LOADED', rows_parsed=25, rows_loaded=25, error_limit=25, errors_seen=0, first_error=None, first_error_line=None, first_error_character=None, first_error_column_name=None)]"
      ]
     },
     "execution_count": 31,
     "metadata": {},
     "output_type": "execute_result"
    }
   ],
   "source": [
    "# Ingest data from Azure to Snowflake\n",
    "session.sql(\"\"\"\n",
    "COPY INTO raw_sales_data (\n",
    "  OrderID, OrderDate, MonthOfSale, CustomerID, CustomerName,\n",
    "  Country, Region, City, Category, Subcategory,\n",
    "  Quantity, Discount, Sales, Profit, FileName\n",
    ")\n",
    "FROM (\n",
    "  SELECT $1, $2, $3, $4, $5, $6, $7, $8, $9, $10,\n",
    "         $11, $12, $13, $14, METADATA$FILENAME\n",
    "  FROM @azure_stage/Retail_Sales__500_rows__Preview.csv\n",
    ")\n",
    "FILE_FORMAT = (FORMAT_NAME = csv_format)\n",
    "ON_ERROR = 'CONTINUE';\n",
    "\"\"\").collect()\n"
   ]
  },
  {
   "cell_type": "markdown",
   "metadata": {
    "application/vnd.databricks.v1+cell": {
     "cellMetadata": {},
     "inputWidgets": {},
     "nuid": "aafb16f4-4cc6-4380-a9cd-c3a6e6d99b61",
     "showTitle": false,
     "tableResultSettingsMap": {},
     "title": ""
    }
   },
   "source": [
    "Load Data"
   ]
  },
  {
   "cell_type": "code",
   "execution_count": 0,
   "metadata": {
    "application/vnd.databricks.v1+cell": {
     "cellMetadata": {
      "byteLimit": 2048000,
      "rowLimit": 10000
     },
     "inputWidgets": {},
     "nuid": "49064942-69ff-44d9-b11a-dc75284b308c",
     "showTitle": false,
     "tableResultSettingsMap": {},
     "title": ""
    }
   },
   "outputs": [
    {
     "output_type": "execute_result",
     "data": {
      "text/plain": [
       "[Row(status='Copy executed with 0 files processed.')]"
      ]
     },
     "execution_count": 32,
     "metadata": {},
     "output_type": "execute_result"
    }
   ],
   "source": [
    "session.sql(\"\"\"\n",
    "COPY INTO raw_sales_data (\n",
    "  OrderID, OrderDate, MonthOfSale, CustomerID, CustomerName,\n",
    "  Country, Region, City, Category, Subcategory,\n",
    "  Quantity, Discount, Sales, Profit, FileName\n",
    ")\n",
    "FROM (\n",
    "  SELECT $1, $2, $3, $4, $5, $6, $7, $8, $9, $10,\n",
    "         $11, $12, $13, $14, METADATA$FILENAME\n",
    "  FROM @azure_stage/sales_october.csv\n",
    ")\n",
    "FILE_FORMAT = (FORMAT_NAME = csv_format)\n",
    "ON_ERROR = 'CONTINUE';\n",
    "\"\"\").collect()"
   ]
  },
  {
   "cell_type": "code",
   "execution_count": 0,
   "metadata": {
    "application/vnd.databricks.v1+cell": {
     "cellMetadata": {
      "byteLimit": 2048000,
      "rowLimit": 10000
     },
     "inputWidgets": {},
     "nuid": "49ec396e-d099-4374-98d5-207c2c5d3b24",
     "showTitle": false,
     "tableResultSettingsMap": {},
     "title": ""
    }
   },
   "outputs": [
    {
     "output_type": "stream",
     "name": "stdout",
     "output_type": "stream",
     "text": [
      "Total rows in raw table: 25\nSample raw data:\n--------------------------------------------------------------------------------------------------------------------------------------------------------------------------------------------------------------------------------------------------------------------\n|\"ORDERID\"     |\"ORDERDATE\"  |\"MONTHOFSALE\"  |\"CUSTOMERID\"  |\"CUSTOMERNAME\"  |\"COUNTRY\"  |\"REGION\"  |\"CITY\"   |\"CATEGORY\"       |\"SUBCATEGORY\"  |\"QUANTITY\"  |\"DISCOUNT\"  |\"SALES\"   |\"PROFIT\"  |\"FILENAME\"                           |\"LOADTIMESTAMP\"             |\n--------------------------------------------------------------------------------------------------------------------------------------------------------------------------------------------------------------------------------------------------------------------\n|ORD-5F8D6F0C  |2024-10-08   |2024-10        |CUST1000      |Ananya Sharma   |India      |South     |Mumbai   |Office Supplies  |Paper          |9           |0.00        |2700.00   |780.43    |Retail_Sales__500_rows__Preview.csv  |2025-10-23 22:25:16.769000  |\n|ORD-BF0078E4  |2024-08-11   |2024-08        |CUST1001      |Aarav Iyer      |India      |Central   |Lucknow  |Technology       |Networking     |4           |0.15        |27200.00  |4135.60   |Retail_Sales__500_rows__Preview.csv  |2025-10-23 22:25:16.769000  |\n|ORD-86CD58A3  |2024-06-12   |2024-06        |CUST1002      |Arjun Sharma    |USA        |East      |Kolkata  |Furniture        |Tables         |4           |0.10        |31500.00  |5676.96   |Retail_Sales__500_rows__Preview.csv  |2025-10-23 22:25:16.769000  |\n|ORD-FB0CD2D9  |2024-12-18   |2024-12        |CUST1003      |Ananya Das      |India      |North     |Kolkata  |Office Supplies  |Appliances     |9           |0.00        |36000.00  |11783.22  |Retail_Sales__500_rows__Preview.csv  |2025-10-23 22:25:16.769000  |\n|ORD-EF35596B  |2024-10-27   |2024-10        |CUST1004      |Ishaan Bhat     |UK         |Central   |Chennai  |Furniture        |Storage        |4           |0.00        |24000.00  |4189.98   |Retail_Sales__500_rows__Preview.csv  |2025-10-23 22:25:16.769000  |\n--------------------------------------------------------------------------------------------------------------------------------------------------------------------------------------------------------------------------------------------------------------------\n\n"
     ]
    }
   ],
   "source": [
    "# Verify raw data\n",
    "result = session.sql(\"SELECT COUNT(*) as total_rows FROM raw_sales_data\").collect()\n",
    "print(f\"Total rows in raw table: {result[0]['TOTAL_ROWS']}\")\n",
    "\n",
    "print(\"Sample raw data:\")\n",
    "session.sql(\"SELECT * FROM raw_sales_data LIMIT 5\").show()"
   ]
  },
  {
   "cell_type": "code",
   "execution_count": 0,
   "metadata": {
    "application/vnd.databricks.v1+cell": {
     "cellMetadata": {
      "byteLimit": 2048000,
      "rowLimit": 10000
     },
     "inputWidgets": {},
     "nuid": "ca293be8-e6b6-4a7e-8cb6-7a63536fb447",
     "showTitle": false,
     "tableResultSettingsMap": {},
     "title": ""
    }
   },
   "outputs": [
    {
     "output_type": "stream",
     "name": "stdout",
     "output_type": "stream",
     "text": [
      "Clean sales data table created\n"
     ]
    }
   ],
   "source": [
    "# Switch to clean schema and create clean data table\n",
    "session.sql(\"USE SCHEMA ITG_SALES_DB\").collect()\n",
    "\n",
    "session.sql(\"\"\"\n",
    "CREATE OR REPLACE TABLE clean_sales_data AS\n",
    "SELECT \n",
    "    OrderID,\n",
    "    OrderDate,\n",
    "    MonthOfSale,\n",
    "    CustomerID,\n",
    "    CustomerName,\n",
    "    Country,\n",
    "    Region,\n",
    "    City,\n",
    "    Category,\n",
    "    Subcategory,\n",
    "    Quantity,\n",
    "    Discount,\n",
    "    Sales,\n",
    "    Profit,\n",
    "    -- Data validation and calculations\n",
    "    CASE WHEN Sales != Quantity * (Sales/NULLIF(Quantity,0)) THEN Sales ELSE Sales END AS ValidatedSales,\n",
    "    -- Date parts for analysis\n",
    "    YEAR(OrderDate) AS OrderYear,\n",
    "    MONTH(OrderDate) AS OrderMonth,\n",
    "    QUARTER(OrderDate) AS OrderQuarter,\n",
    "    -- Business metrics\n",
    "    Sales * Discount AS DiscountAmount,\n",
    "    Profit / NULLIF(Sales, 0) AS ProfitMargin,\n",
    "    LoadTimestamp\n",
    "FROM ITG_SALES_DB.RAW.raw_sales_data\n",
    "WHERE OrderDate IS NOT NULL AND Sales > 0;\n",
    "\"\"\").collect()\n",
    "\n",
    "print(\"Clean sales data table created\")"
   ]
  },
  {
   "cell_type": "code",
   "execution_count": 0,
   "metadata": {
    "application/vnd.databricks.v1+cell": {
     "cellMetadata": {
      "byteLimit": 2048000,
      "rowLimit": 10000
     },
     "inputWidgets": {},
     "nuid": "77b79d2c-a8f7-4f36-8383-73c132b1e956",
     "showTitle": false,
     "tableResultSettingsMap": {},
     "title": ""
    }
   },
   "outputs": [
    {
     "output_type": "stream",
     "name": "stdout",
     "output_type": "stream",
     "text": [
      "Aggregated views created successfully\n"
     ]
    }
   ],
   "source": [
    "# Create aggregated views for Power BI\n",
    "session.sql(\"\"\"\n",
    "CREATE OR REPLACE VIEW sales_summary_monthly AS\n",
    "SELECT\n",
    "    Region,\n",
    "    Category,\n",
    "    OrderYear,\n",
    "    OrderMonth,\n",
    "    COUNT(*) AS TotalOrders,\n",
    "    SUM(Sales) AS TotalSales,\n",
    "    SUM(Profit) AS TotalProfit,\n",
    "    AVG(Sales) AS AvgOrderValue,\n",
    "    SUM(Quantity) AS TotalQuantity,\n",
    "    COUNT(DISTINCT CustomerID) AS UniqueCustomers\n",
    "FROM clean_sales_data\n",
    "GROUP BY Region, Category, OrderYear, OrderMonth\n",
    "ORDER BY OrderYear, OrderMonth, Region;\n",
    "\"\"\").collect()\n",
    "\n",
    "print(\"Aggregated views created successfully\")"
   ]
  },
  {
   "cell_type": "code",
   "execution_count": 0,
   "metadata": {
    "application/vnd.databricks.v1+cell": {
     "cellMetadata": {
      "byteLimit": 2048000,
      "rowLimit": 10000
     },
     "inputWidgets": {},
     "nuid": "04d37bca-6afc-46a6-94dd-08f2f886df5f",
     "showTitle": false,
     "tableResultSettingsMap": {},
     "title": ""
    }
   },
   "outputs": [
    {
     "output_type": "stream",
     "name": "stdout",
     "output_type": "stream",
     "text": [
      "Power BI view created successfully\n"
     ]
    }
   ],
   "source": [
    "# Create Power BI optimized view\n",
    "session.sql(\"\"\"\n",
    "CREATE OR REPLACE VIEW vw_powerbi_sales_dashboard AS\n",
    "SELECT \n",
    "    cs.*,\n",
    "    sm.TotalSales AS RegionMonthlySales,\n",
    "    sm.TotalProfit AS RegionMonthlyProfit,\n",
    "    sm.UniqueCustomers AS RegionMonthlyCustomers\n",
    "FROM clean_sales_data cs\n",
    "LEFT JOIN sales_summary_monthly sm \n",
    "    ON cs.Region = sm.Region \n",
    "    AND cs.Category = sm.Category\n",
    "    AND cs.OrderYear = sm.OrderYear \n",
    "    AND cs.OrderMonth = sm.OrderMonth;\n",
    "\"\"\").collect()\n",
    "\n",
    "print(\"Power BI view created successfully\")"
   ]
  },
  {
   "cell_type": "code",
   "execution_count": 0,
   "metadata": {
    "application/vnd.databricks.v1+cell": {
     "cellMetadata": {
      "byteLimit": 2048000,
      "rowLimit": 10000
     },
     "inputWidgets": {},
     "nuid": "790c510c-3cef-483f-ba6e-d195eec71360",
     "showTitle": false,
     "tableResultSettingsMap": {},
     "title": ""
    }
   },
   "outputs": [
    {
     "output_type": "stream",
     "name": "stdout",
     "output_type": "stream",
     "text": [
      "Data Quality Check Results:\nError in check SELECT COUNT(*) AS total_rows FROM raw_sales_data: (1304): 01bfeaea-0001-672c-000c-603a00039196: 002003 (42S02): SQL compilation error:\nObject 'RAW_SALES_DATA' does not exist or not authorized.\nSELECT COUNT(*) AS clean_rows FROM clean_sales_data: Row(CLEAN_ROWS=25)\nSELECT COUNT(DISTINCT Region) AS region_count FROM clean_sales_data: Row(REGION_COUNT=5)\nSELECT MIN(OrderDate) AS earliest_date, MAX(OrderDate) AS latest_date FROM clean_sales_data: Row(EARLIEST_DATE=datetime.date(2024, 2, 27), LATEST_DATE=datetime.date(2025, 9, 15))\nSELECT SUM(Sales) AS total_sales, SUM(Profit) AS total_profit FROM clean_sales_data: Row(TOTAL_SALES=Decimal('1066026.50'), TOTAL_PROFIT=Decimal('180647.47'))\n"
     ]
    }
   ],
   "source": [
    "# Data quality checks\n",
    "checks = [\n",
    "    \"SELECT COUNT(*) AS total_rows FROM raw_sales_data\",\n",
    "    \"SELECT COUNT(*) AS clean_rows FROM clean_sales_data\", \n",
    "    \"SELECT COUNT(DISTINCT Region) AS region_count FROM clean_sales_data\",\n",
    "    \"SELECT MIN(OrderDate) AS earliest_date, MAX(OrderDate) AS latest_date FROM clean_sales_data\",\n",
    "    \"SELECT SUM(Sales) AS total_sales, SUM(Profit) AS total_profit FROM clean_sales_data\"\n",
    "]\n",
    "\n",
    "print(\"Data Quality Check Results:\")\n",
    "for check in checks:\n",
    "    try:\n",
    "        result = session.sql(check).collect()\n",
    "        print(f\"{check}: {result[0]}\")\n",
    "    except Exception as e:\n",
    "        print(f\"Error in check {check}: {str(e)}\")"
   ]
  },
  {
   "cell_type": "code",
   "execution_count": 0,
   "metadata": {
    "application/vnd.databricks.v1+cell": {
     "cellMetadata": {
      "byteLimit": 2048000,
      "rowLimit": 10000
     },
     "inputWidgets": {},
     "nuid": "459acad8-53b4-4cb6-9241-4f8ad0eaccae",
     "showTitle": false,
     "tableResultSettingsMap": {},
     "title": ""
    }
   },
   "outputs": [
    {
     "output_type": "stream",
     "name": "stdout",
     "output_type": "stream",
     "text": [
      "Final verification - Sample from Power BI view:\n-------------------------------------------------------------------------------------------------------------------------------------------------------------------------------------------------------------------------------------------------------------------------------------------------------------------------------------------------------------------------------------------------------------\n|\"ORDERID\"     |\"ORDERDATE\"  |\"MONTHOFSALE\"  |\"CUSTOMERID\"  |\"CUSTOMERNAME\"  |\"COUNTRY\"  |\"REGION\"  |\"CITY\"   |\"CATEGORY\"       |\"SUBCATEGORY\"  |\"QUANTITY\"  |\"DISCOUNT\"  |\"SALES\"   |\"PROFIT\"  |\"VALIDATEDSALES\"  |\"ORDERYEAR\"  |\"ORDERMONTH\"  |\"ORDERQUARTER\"  |\"DISCOUNTAMOUNT\"  |\"PROFITMARGIN\"  |\"LOADTIMESTAMP\"             |\"REGIONMONTHLYSALES\"  |\"REGIONMONTHLYPROFIT\"  |\"REGIONMONTHLYCUSTOMERS\"  |\n-------------------------------------------------------------------------------------------------------------------------------------------------------------------------------------------------------------------------------------------------------------------------------------------------------------------------------------------------------------------------------------------------------------\n|ORD-86CD58A3  |2024-06-12   |2024-06        |CUST1002      |Arjun Sharma    |USA        |East      |Kolkata  |Furniture        |Tables         |4           |0.10        |31500.00  |5676.96   |31500.00          |2024         |6             |2               |3150.0000         |0.18022095      |2025-10-23 22:25:16.769000  |31500.00              |5676.96                |1                         |\n|ORD-BF0078E4  |2024-08-11   |2024-08        |CUST1001      |Aarav Iyer      |India      |Central   |Lucknow  |Technology       |Networking     |4           |0.15        |27200.00  |4135.60   |27200.00          |2024         |8             |3               |4080.0000         |0.15204412      |2025-10-23 22:25:16.769000  |27200.00              |4135.60                |1                         |\n|ORD-EF35596B  |2024-10-27   |2024-10        |CUST1004      |Ishaan Bhat     |UK         |Central   |Chennai  |Furniture        |Storage        |4           |0.00        |24000.00  |4189.98   |24000.00          |2024         |10            |4               |0.0000            |0.17458250      |2025-10-23 22:25:16.769000  |24000.00              |4189.98                |1                         |\n|ORD-5F8D6F0C  |2024-10-08   |2024-10        |CUST1000      |Ananya Sharma   |India      |South     |Mumbai   |Office Supplies  |Paper          |9           |0.00        |2700.00   |780.43    |2700.00           |2024         |10            |4               |0.0000            |0.28904815      |2025-10-23 22:25:16.769000  |2700.00               |780.43                 |1                         |\n|ORD-FB0CD2D9  |2024-12-18   |2024-12        |CUST1003      |Ananya Das      |India      |North     |Kolkata  |Office Supplies  |Appliances     |9           |0.00        |36000.00  |11783.22  |36000.00          |2024         |12            |4               |0.0000            |0.32731167      |2025-10-23 22:25:16.769000  |36000.00              |11783.22               |1                         |\n-------------------------------------------------------------------------------------------------------------------------------------------------------------------------------------------------------------------------------------------------------------------------------------------------------------------------------------------------------------------------------------------------------------\n\nSummary statistics:\n-------------------------------------------------------------------------------------------------------------------\n|\"TOTAL_RECORDS\"  |\"UNIQUE_CUSTOMERS\"  |\"REGIONS_COVERED\"  |\"TOTAL_SALES\"  |\"TOTAL_PROFIT\"  |\"AVG_PROFIT_MARGIN\"  |\n-------------------------------------------------------------------------------------------------------------------\n|25               |25                  |5                  |1066026.50     |180647.47       |0.216975929200       |\n-------------------------------------------------------------------------------------------------------------------\n\n"
     ]
    }
   ],
   "source": [
    "# Final verification and sample data\n",
    "print(\"Final verification - Sample from Power BI view:\")\n",
    "session.sql(\"SELECT * FROM vw_powerbi_sales_dashboard LIMIT 5\").show()\n",
    "\n",
    "print(\"Summary statistics:\")\n",
    "session.sql(\"\"\"\n",
    "SELECT \n",
    "    COUNT(*) AS total_records,\n",
    "    COUNT(DISTINCT CustomerID) AS unique_customers,\n",
    "    COUNT(DISTINCT Region) AS regions_covered,\n",
    "    SUM(Sales) AS total_sales,\n",
    "    SUM(Profit) AS total_profit,\n",
    "    AVG(ProfitMargin) AS avg_profit_margin\n",
    "FROM vw_powerbi_sales_dashboard\n",
    "\"\"\").show()"
   ]
  },
  {
   "cell_type": "code",
   "execution_count": 0,
   "metadata": {
    "application/vnd.databricks.v1+cell": {
     "cellMetadata": {
      "byteLimit": 2048000,
      "rowLimit": 10000
     },
     "inputWidgets": {},
     "nuid": "ff32bd57-760c-49f4-a657-92dc1f8fe56f",
     "showTitle": false,
     "tableResultSettingsMap": {},
     "title": ""
    }
   },
   "outputs": [
    {
     "output_type": "stream",
     "name": "stdout",
     "output_type": "stream",
     "text": [
      "Snowpark session closed\nPipeline execution completed successfully!\n\nNext steps: Connect Power BI to Snowflake using:\nDatabase: ITTG_SALES_DB\nSchema: CLEAN_DATA\nView: VW_POWERBI_SALES_DASHBOARD\n"
     ]
    }
   ],
   "source": [
    "# Close session\n",
    "session.close()\n",
    "print(\"Snowpark session closed\")\n",
    "print(\"Pipeline execution completed successfully!\")\n",
    "print(\"\\nNext steps: Connect Power BI to Snowflake using:\")\n",
    "print(\"Database: ITTG_SALES_DB\")\n",
    "print(\"Schema: CLEAN_DATA\") \n",
    "print(\"View: VW_POWERBI_SALES_DASHBOARD\")"
   ]
  }
 ],
 "metadata": {
  "application/vnd.databricks.v1+notebook": {
   "computePreferences": null,
   "dashboards": [],
   "environmentMetadata": {
    "base_environment": "",
    "environment_version": "4"
   },
   "inputWidgetPreferences": null,
   "language": "python",
   "notebookMetadata": {
    "pythonIndentUnit": 4
   },
   "notebookName": "azure-connection",
   "widgets": {}
  },
  "language_info": {
   "name": "python"
  }
 },
 "nbformat": 4,
 "nbformat_minor": 0
}